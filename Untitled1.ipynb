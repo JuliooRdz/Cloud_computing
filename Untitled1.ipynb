{
  "nbformat": 4,
  "nbformat_minor": 0,
  "metadata": {
    "colab": {
      "provenance": [],
      "authorship_tag": "ABX9TyOBFxihtPysSTax/yPPXvLU",
      "include_colab_link": true
    },
    "kernelspec": {
      "name": "python3",
      "display_name": "Python 3"
    },
    "language_info": {
      "name": "python"
    }
  },
  "cells": [
    {
      "cell_type": "markdown",
      "metadata": {
        "id": "view-in-github",
        "colab_type": "text"
      },
      "source": [
        "<a href=\"https://colab.research.google.com/github/JuliooRdz/Cloud_computing/blob/main/Untitled1.ipynb\" target=\"_parent\"><img src=\"https://colab.research.google.com/assets/colab-badge.svg\" alt=\"Open In Colab\"/></a>"
      ]
    },
    {
      "cell_type": "code",
      "source": [
        "import random\n",
        "import string\n",
        "\n",
        "def es_primo(numero):\n",
        "    if numero <= 1:\n",
        "        return False\n",
        "    for i in range(2, int(numero**0.5) + 1):\n",
        "        if numero % i == 0:\n",
        "            return False\n",
        "    return True\n",
        "\n",
        "def siguiente_primo(n):\n",
        "    primo_siguiente = n + 1\n",
        "    while True:\n",
        "        if es_primo(primo_siguiente):\n",
        "            return primo_siguiente\n",
        "        primo_siguiente += 1\n",
        "\n",
        "def valor_medio(num1, num2, num3):\n",
        "    suma = num1 + num2 + num3\n",
        "    promedio = suma / 3\n",
        "    return promedio\n",
        "\n",
        "def generar_contraseña():\n",
        "    longitud = random.randint(7, 10)\n",
        "    caracteres = string.printable[33:94]\n",
        "    contraseña = ''.join(random.choice(caracteres) for _ in range(longitud))\n",
        "    return contraseña\n",
        "\n",
        "def calcular_hipotenusa(lado1, lado2):\n",
        "    hipotenusa = (lado1**2 + lado2**2)**0.5\n",
        "    return hipotenusa"
      ],
      "metadata": {
        "id": "K-hQh6XvFIr4"
      },
      "execution_count": 2,
      "outputs": []
    }
  ]
}